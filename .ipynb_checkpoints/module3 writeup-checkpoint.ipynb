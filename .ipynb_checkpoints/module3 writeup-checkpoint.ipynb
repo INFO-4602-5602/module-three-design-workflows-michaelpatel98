{
 "cells": [
  {
   "cell_type": "markdown",
   "id": "f237c69d",
   "metadata": {},
   "source": [
    "<h1 style=\"text-align: center; font-family: times\">Watch Them Work</h1>\n",
    "<h3 style=\"text-align: center; font-family: times\">Michael Patel</h3>\n",
    "<h3 style=\"text-align: center; font-family: times\">INFO 4602: Module 3</h3>\n",
    "\n",
    "<h4 style=\"font-family: arial\">Precondition</h4>\n",
    "\n",
    "<i>1. Learning:</i> In your write-up, provide a brief background for your target problem. Make sure to describe the problem and why it matters.\n",
    "\n",
    ">When it comes to women’s sports in America, there is a severe lack of representation. While the Women’s National Basketball Association (WNBA) may seem like it is a more equal-to-the-men’s league, it certainly is not. The women make an average salary estimated at about one-hundred thousand dollars, compared to an average of over seven million dollars in the men’s league. Additionally, the average men’s rookie takes home a salary of over eight-hundred thousand dollars.\n",
    "    \n",
    ">While there may be some valid reasons as to why some marginal differences exist, the fact that the wage gap is this large is shocking, and rather discomforting. Organizations, like the NCAA, have frequently made statements about striving for equality, but have not followed through with their actions. It’s about time the women get the respect they have earned. \n",
    "\n",
    "<i>2. Winnowing</i>: Describe the data that you will use to explore that problem. Make sure to talk about the background of the data (e.g., where does it come from, what bias might it have, etc) and why it's useful for your question as well as including a link to the source article. \n",
    "\n",
    ">The dataset used is from <a href=\"https://fivethirtyeight.com/features/its-time-to-give-basketballs-other-goat-her-due/\">FiveThirtyEight</a>, downloaded from <a href=\"https://github.com/fivethirtyeight/WNBA-stats/\">GitHub</a>. Since the WNBA began in 1997, some of the statistics will likely be biased towards newer players, or at least those who were younger at the inception of the league. The player of focus in the article is Cynthia Cooper-Dyke, who first retired from the WNBA in 2000, at the age of 37. She was the finals MVP all four years she played in the WNBA, something only one NBA player, Michael Jordan, can top. The data visualizations provided in the article are rather limited, as there are only three of them. Additionally, the data analysis is centered on the late 1990s, when Cooper-Dyke was in the league. Therefore, it will be pertinent to allow the user to interpret the data independently in order to draw conclusions about the state of the WNBA, rather than focusing on one team, player, or time frame. The second file includes team data, which shows data from each game from 1997 through 2019. This file also includes a composite ELO rating, to show relative strength of teams.\n",
    "\n",
    "<h4 style=\"font-family: arial\">Core</h4>\n",
    "\n",
    "<i>3. Discover.</i> Characterize your problem by identifying at least two tasks that you will want to conduct with your data, drawing either on your prior knowledge or the content of the article to scaffold your investigation. Enumerate the tasks using the why/how/what/where/when/who framework we talked about in class (Lecture 15 has more details). \n",
    "\n",
    ">Tasks are the reason why the visualization tool is being used in the first place. High-level tasks refer to the purpose of the visualization, middle-level is what the user is doing, and low-level is what the user is looking for. Using the why/how/what/where/when/who framework, I will go through two tasks that will help characterize the problem and shape the visualization.\n",
    "\n",
    ">Task 1: \n",
    "The goal of the first task is to give the user the ability to discern, for themselves, interesting things about players in the WNBA. This does not have to refer to anything in specific, but it is important that there is no bias in the presentation of the data. Users will be able to filter and aggregate data themselves, so that this process is more organic and personal. The task will simply seek to discover and identify some of the highest performing players in the league's history.\n",
    "\n",
    ">Task 2:\n",
    "Why is a task pursued? (goal)\n",
    "For the second task, users will look at teams in the WNBA, and similar to the first task, will be more exploratory. It will be important that the user understands both players and teams in the league, so that their knowledge is more sound. Similar to the first task, users will be able to filter and aggregate data; this time, looking at which teams perform the best over the years. The data will seek to explore how teams have risen and fallen over the years, and it will be useful in comparison with the player data, in order to show how some players have quite an effect on team success.\n",
    "\n",
    "<i>4. Design:</i> Create a sketch of your initial prototype. Note that this sketch can be drawn from your work either in Assignment 2 or in the source article, but should include some design iteration to support your target tasks. Add brief design justifications and discussions of the trade-offs of key design choices in the sketch, being sure the discussion is closely tied to your target tasks. Make sure to include a copy of the sketch in your write-up. \n",
    "\n",
    "<a href=\"module3sketch.jpg\">Sketch Here</a>\n",
    "\n",
    ">My sketch includes two line graphs, one of which for players, and the other for teams. In the source article, the author decides to use two tables and one line graph. While the tables are good in terms of precise comparisons, it is difficult to compare trends, and this is why I decided to go with the line graphs. In the article, the line graph describes the ELO rating for one team, the Houston Comets. In my sketch, I have allowed for multiple lines, where each team or player would represent one line. There is also a filtering selection, where the user would select which teams or players they want to see along with how many, and how they are sorted. Further, they would be able to change the statistic being presented.\n",
    "\n",
    "\n",
    "<i>5. Implement:</i> Implement your design as a more polished digital or physical data representation. You can use any tool of your choosing, but if you elect to use a WYSIWYG tool like Tableau or Excel, please incorporate design choices beyond the defaults provided by the tool. Note how you've implemented your solution, how it addresses your core tasks, and include at least one image of the visualization in the write-up. \n",
    "\n",
    "\n",
    " \n",
    "<i>6. Deploy:</i> Use your visualization with your target data to conduct the tasks you outlined in Step 3. Note your observations about the data gained through these tasks. \n",
    "\t\n",
    " \n",
    "<i>7. Iterate:</i> Note at least one new task you'd conduct now that you've had a chance to investigate your dataset. Describe how you would change your solution to accommodate that task. \n",
    "\t\n",
    "\n",
    "\n",
    "<h4 style=\"font-family: arial\">Analysis</h4>\n",
    "<i>8. Reflect, Pt 1:</i> Describe what your solution tells you about your target problem. Note that you will do this with your domain expert hat on. \n",
    " \n",
    "<i>9. Reflect, Pt2:</i> Describe what your solution tells you about designing visualizations for your target problem. Note that you will do this with your designer hat on.\n",
    " \n",
    "\n",
    "https://fivethirtyeight.com/features/its-time-to-give-basketballs-other-goat-her-due/\n"
   ]
  },
  {
   "cell_type": "code",
   "execution_count": null,
   "id": "bbcb31c0",
   "metadata": {},
   "outputs": [],
   "source": []
  }
 ],
 "metadata": {
  "kernelspec": {
   "display_name": "Python 3",
   "language": "python",
   "name": "python3"
  },
  "language_info": {
   "codemirror_mode": {
    "name": "ipython",
    "version": 3
   },
   "file_extension": ".py",
   "mimetype": "text/x-python",
   "name": "python",
   "nbconvert_exporter": "python",
   "pygments_lexer": "ipython3",
   "version": "3.7.10"
  }
 },
 "nbformat": 4,
 "nbformat_minor": 5
}
